{
 "cells": [
  {
   "cell_type": "markdown",
   "id": "e4d949e8-bf64-44dc-b6de-a12f3a4e319b",
   "metadata": {},
   "source": [
    "Data Analysis on Fruity vice Dataset"
   ]
  },
  {
   "cell_type": "markdown",
   "id": "0bb1065b-cf09-4e5e-b86c-ff6c8cf2c37c",
   "metadata": {},
   "source": [
    "Importing libraries"
   ]
  },
  {
   "cell_type": "code",
   "execution_count": 1,
   "id": "3ab7bfd9-95c3-4233-99e8-087d468857d8",
   "metadata": {},
   "outputs": [],
   "source": [
    "import requests\n",
    "import json\n",
    "import pandas as pd\n",
    "import matplotlib.pyplot as plt\n",
    "import seaborn as sns\n",
    "import numpy as np\n",
    "from sklearn import linear_model"
   ]
  },
  {
   "cell_type": "markdown",
   "id": "66af0f0e-eb13-4143-9bd0-159630c473e9",
   "metadata": {},
   "source": [
    "Loading data from API"
   ]
  },
  {
   "cell_type": "code",
   "execution_count": 2,
   "id": "19c319e1-0105-4e74-ad7a-41286b8e81e9",
   "metadata": {},
   "outputs": [
    {
     "data": {
      "text/html": [
       "<div>\n",
       "<style scoped>\n",
       "    .dataframe tbody tr th:only-of-type {\n",
       "        vertical-align: middle;\n",
       "    }\n",
       "\n",
       "    .dataframe tbody tr th {\n",
       "        vertical-align: top;\n",
       "    }\n",
       "\n",
       "    .dataframe thead th {\n",
       "        text-align: right;\n",
       "    }\n",
       "</style>\n",
       "<table border=\"1\" class=\"dataframe\">\n",
       "  <thead>\n",
       "    <tr style=\"text-align: right;\">\n",
       "      <th></th>\n",
       "      <th>name</th>\n",
       "      <th>id</th>\n",
       "      <th>family</th>\n",
       "      <th>order</th>\n",
       "      <th>genus</th>\n",
       "      <th>nutritions.calories</th>\n",
       "      <th>nutritions.fat</th>\n",
       "      <th>nutritions.sugar</th>\n",
       "      <th>nutritions.carbohydrates</th>\n",
       "      <th>nutritions.protein</th>\n",
       "    </tr>\n",
       "  </thead>\n",
       "  <tbody>\n",
       "    <tr>\n",
       "      <th>0</th>\n",
       "      <td>Persimmon</td>\n",
       "      <td>52</td>\n",
       "      <td>Ebenaceae</td>\n",
       "      <td>Rosales</td>\n",
       "      <td>Diospyros</td>\n",
       "      <td>81</td>\n",
       "      <td>0.00</td>\n",
       "      <td>18.00</td>\n",
       "      <td>18.0</td>\n",
       "      <td>0.00</td>\n",
       "    </tr>\n",
       "    <tr>\n",
       "      <th>1</th>\n",
       "      <td>Strawberry</td>\n",
       "      <td>3</td>\n",
       "      <td>Rosaceae</td>\n",
       "      <td>Rosales</td>\n",
       "      <td>Fragaria</td>\n",
       "      <td>29</td>\n",
       "      <td>0.40</td>\n",
       "      <td>5.40</td>\n",
       "      <td>5.5</td>\n",
       "      <td>0.80</td>\n",
       "    </tr>\n",
       "    <tr>\n",
       "      <th>2</th>\n",
       "      <td>Banana</td>\n",
       "      <td>1</td>\n",
       "      <td>Musaceae</td>\n",
       "      <td>Zingiberales</td>\n",
       "      <td>Musa</td>\n",
       "      <td>96</td>\n",
       "      <td>0.20</td>\n",
       "      <td>17.20</td>\n",
       "      <td>22.0</td>\n",
       "      <td>1.00</td>\n",
       "    </tr>\n",
       "    <tr>\n",
       "      <th>3</th>\n",
       "      <td>Tomato</td>\n",
       "      <td>5</td>\n",
       "      <td>Solanaceae</td>\n",
       "      <td>Solanales</td>\n",
       "      <td>Solanum</td>\n",
       "      <td>74</td>\n",
       "      <td>0.20</td>\n",
       "      <td>2.60</td>\n",
       "      <td>3.9</td>\n",
       "      <td>0.90</td>\n",
       "    </tr>\n",
       "    <tr>\n",
       "      <th>4</th>\n",
       "      <td>Pear</td>\n",
       "      <td>4</td>\n",
       "      <td>Rosaceae</td>\n",
       "      <td>Rosales</td>\n",
       "      <td>Pyrus</td>\n",
       "      <td>57</td>\n",
       "      <td>0.10</td>\n",
       "      <td>10.00</td>\n",
       "      <td>15.0</td>\n",
       "      <td>0.40</td>\n",
       "    </tr>\n",
       "    <tr>\n",
       "      <th>5</th>\n",
       "      <td>Durian</td>\n",
       "      <td>60</td>\n",
       "      <td>Malvaceae</td>\n",
       "      <td>Malvales</td>\n",
       "      <td>Durio</td>\n",
       "      <td>147</td>\n",
       "      <td>5.30</td>\n",
       "      <td>6.75</td>\n",
       "      <td>27.1</td>\n",
       "      <td>1.50</td>\n",
       "    </tr>\n",
       "    <tr>\n",
       "      <th>6</th>\n",
       "      <td>Blackberry</td>\n",
       "      <td>64</td>\n",
       "      <td>Rosaceae</td>\n",
       "      <td>Rosales</td>\n",
       "      <td>Rubus</td>\n",
       "      <td>40</td>\n",
       "      <td>0.40</td>\n",
       "      <td>4.50</td>\n",
       "      <td>9.0</td>\n",
       "      <td>1.30</td>\n",
       "    </tr>\n",
       "    <tr>\n",
       "      <th>7</th>\n",
       "      <td>Lingonberry</td>\n",
       "      <td>65</td>\n",
       "      <td>Ericaceae</td>\n",
       "      <td>Ericales</td>\n",
       "      <td>Vaccinium</td>\n",
       "      <td>50</td>\n",
       "      <td>0.34</td>\n",
       "      <td>5.74</td>\n",
       "      <td>11.3</td>\n",
       "      <td>0.75</td>\n",
       "    </tr>\n",
       "    <tr>\n",
       "      <th>8</th>\n",
       "      <td>Kiwi</td>\n",
       "      <td>66</td>\n",
       "      <td>Actinidiaceae</td>\n",
       "      <td>Struthioniformes</td>\n",
       "      <td>Apteryx</td>\n",
       "      <td>61</td>\n",
       "      <td>0.50</td>\n",
       "      <td>9.00</td>\n",
       "      <td>15.0</td>\n",
       "      <td>1.10</td>\n",
       "    </tr>\n",
       "    <tr>\n",
       "      <th>9</th>\n",
       "      <td>Lychee</td>\n",
       "      <td>67</td>\n",
       "      <td>Sapindaceae</td>\n",
       "      <td>Sapindales</td>\n",
       "      <td>Litchi</td>\n",
       "      <td>66</td>\n",
       "      <td>0.44</td>\n",
       "      <td>15.00</td>\n",
       "      <td>17.0</td>\n",
       "      <td>0.80</td>\n",
       "    </tr>\n",
       "  </tbody>\n",
       "</table>\n",
       "</div>"
      ],
      "text/plain": [
       "          name  id         family             order      genus  \\\n",
       "0    Persimmon  52      Ebenaceae           Rosales  Diospyros   \n",
       "1   Strawberry   3       Rosaceae           Rosales   Fragaria   \n",
       "2       Banana   1       Musaceae      Zingiberales       Musa   \n",
       "3       Tomato   5     Solanaceae         Solanales    Solanum   \n",
       "4         Pear   4       Rosaceae           Rosales      Pyrus   \n",
       "5       Durian  60      Malvaceae          Malvales      Durio   \n",
       "6   Blackberry  64       Rosaceae           Rosales      Rubus   \n",
       "7  Lingonberry  65      Ericaceae          Ericales  Vaccinium   \n",
       "8         Kiwi  66  Actinidiaceae  Struthioniformes    Apteryx   \n",
       "9       Lychee  67    Sapindaceae        Sapindales     Litchi   \n",
       "\n",
       "   nutritions.calories  nutritions.fat  nutritions.sugar  \\\n",
       "0                   81            0.00             18.00   \n",
       "1                   29            0.40              5.40   \n",
       "2                   96            0.20             17.20   \n",
       "3                   74            0.20              2.60   \n",
       "4                   57            0.10             10.00   \n",
       "5                  147            5.30              6.75   \n",
       "6                   40            0.40              4.50   \n",
       "7                   50            0.34              5.74   \n",
       "8                   61            0.50              9.00   \n",
       "9                   66            0.44             15.00   \n",
       "\n",
       "   nutritions.carbohydrates  nutritions.protein  \n",
       "0                      18.0                0.00  \n",
       "1                       5.5                0.80  \n",
       "2                      22.0                1.00  \n",
       "3                       3.9                0.90  \n",
       "4                      15.0                0.40  \n",
       "5                      27.1                1.50  \n",
       "6                       9.0                1.30  \n",
       "7                      11.3                0.75  \n",
       "8                      15.0                1.10  \n",
       "9                      17.0                0.80  "
      ]
     },
     "execution_count": 2,
     "metadata": {},
     "output_type": "execute_result"
    }
   ],
   "source": [
    "raw_data = requests.get('https://fruityvice.com/api/fruit/all')\n",
    "output = json.loads(raw_data.text)\n",
    "df_u = pd.json_normalize(output)\n",
    "df_u['name'] = df_u['name'].str.strip()\n",
    "df_u['family'] = df_u['family'].str.strip()\n",
    "df_u['order'] = df_u['order'].str.strip()\n",
    "df_u['genus'] = df_u['genus'].str.strip()\n",
    "df_u.head(n=10)"
   ]
  },
  {
   "cell_type": "code",
   "execution_count": 3,
   "id": "ed588455-b0d0-4d78-a684-24883ceb7ede",
   "metadata": {},
   "outputs": [
    {
     "data": {
      "text/plain": [
       "(49, 10)"
      ]
     },
     "execution_count": 3,
     "metadata": {},
     "output_type": "execute_result"
    }
   ],
   "source": [
    "df_u.shape"
   ]
  },
  {
   "cell_type": "markdown",
   "id": "e19e0d25-8767-4bcc-a97a-9d804e479727",
   "metadata": {},
   "source": [
    "Sorted by name "
   ]
  },
  {
   "cell_type": "code",
   "execution_count": 4,
   "id": "a859f203-7425-410b-a5ba-c7550f9fb51e",
   "metadata": {},
   "outputs": [
    {
     "data": {
      "text/html": [
       "<div>\n",
       "<style scoped>\n",
       "    .dataframe tbody tr th:only-of-type {\n",
       "        vertical-align: middle;\n",
       "    }\n",
       "\n",
       "    .dataframe tbody tr th {\n",
       "        vertical-align: top;\n",
       "    }\n",
       "\n",
       "    .dataframe thead th {\n",
       "        text-align: right;\n",
       "    }\n",
       "</style>\n",
       "<table border=\"1\" class=\"dataframe\">\n",
       "  <thead>\n",
       "    <tr style=\"text-align: right;\">\n",
       "      <th></th>\n",
       "      <th>name</th>\n",
       "      <th>id</th>\n",
       "      <th>family</th>\n",
       "      <th>order</th>\n",
       "      <th>genus</th>\n",
       "      <th>nutritions.calories</th>\n",
       "      <th>nutritions.fat</th>\n",
       "      <th>nutritions.sugar</th>\n",
       "      <th>nutritions.carbohydrates</th>\n",
       "      <th>nutritions.protein</th>\n",
       "    </tr>\n",
       "  </thead>\n",
       "  <tbody>\n",
       "    <tr>\n",
       "      <th>47</th>\n",
       "      <td>Annona</td>\n",
       "      <td>103</td>\n",
       "      <td>Annonaceae</td>\n",
       "      <td>Rosales</td>\n",
       "      <td>Annonas</td>\n",
       "      <td>92</td>\n",
       "      <td>0.29</td>\n",
       "      <td>3.40</td>\n",
       "      <td>19.10</td>\n",
       "      <td>1.5</td>\n",
       "    </tr>\n",
       "    <tr>\n",
       "      <th>22</th>\n",
       "      <td>Apple</td>\n",
       "      <td>6</td>\n",
       "      <td>Rosaceae</td>\n",
       "      <td>Rosales</td>\n",
       "      <td>Malus</td>\n",
       "      <td>52</td>\n",
       "      <td>0.40</td>\n",
       "      <td>10.30</td>\n",
       "      <td>11.40</td>\n",
       "      <td>0.3</td>\n",
       "    </tr>\n",
       "    <tr>\n",
       "      <th>24</th>\n",
       "      <td>Apricot</td>\n",
       "      <td>35</td>\n",
       "      <td>Rosaceae</td>\n",
       "      <td>Rosales</td>\n",
       "      <td>Prunus</td>\n",
       "      <td>15</td>\n",
       "      <td>0.10</td>\n",
       "      <td>3.20</td>\n",
       "      <td>3.90</td>\n",
       "      <td>0.5</td>\n",
       "    </tr>\n",
       "    <tr>\n",
       "      <th>34</th>\n",
       "      <td>Avocado</td>\n",
       "      <td>84</td>\n",
       "      <td>Lauraceae</td>\n",
       "      <td>Laurales</td>\n",
       "      <td>Persea</td>\n",
       "      <td>160</td>\n",
       "      <td>14.66</td>\n",
       "      <td>0.66</td>\n",
       "      <td>8.53</td>\n",
       "      <td>2.0</td>\n",
       "    </tr>\n",
       "    <tr>\n",
       "      <th>2</th>\n",
       "      <td>Banana</td>\n",
       "      <td>1</td>\n",
       "      <td>Musaceae</td>\n",
       "      <td>Zingiberales</td>\n",
       "      <td>Musa</td>\n",
       "      <td>96</td>\n",
       "      <td>0.20</td>\n",
       "      <td>17.20</td>\n",
       "      <td>22.00</td>\n",
       "      <td>1.0</td>\n",
       "    </tr>\n",
       "    <tr>\n",
       "      <th>6</th>\n",
       "      <td>Blackberry</td>\n",
       "      <td>64</td>\n",
       "      <td>Rosaceae</td>\n",
       "      <td>Rosales</td>\n",
       "      <td>Rubus</td>\n",
       "      <td>40</td>\n",
       "      <td>0.40</td>\n",
       "      <td>4.50</td>\n",
       "      <td>9.00</td>\n",
       "      <td>1.3</td>\n",
       "    </tr>\n",
       "    <tr>\n",
       "      <th>21</th>\n",
       "      <td>Blueberry</td>\n",
       "      <td>33</td>\n",
       "      <td>Rosaceae</td>\n",
       "      <td>Rosales</td>\n",
       "      <td>Fragaria</td>\n",
       "      <td>29</td>\n",
       "      <td>0.40</td>\n",
       "      <td>5.40</td>\n",
       "      <td>5.50</td>\n",
       "      <td>0.0</td>\n",
       "    </tr>\n",
       "    <tr>\n",
       "      <th>48</th>\n",
       "      <td>Ceylon Gooseberry</td>\n",
       "      <td>104</td>\n",
       "      <td>Salicaceae</td>\n",
       "      <td>Malpighiales</td>\n",
       "      <td>Dovyalis</td>\n",
       "      <td>47</td>\n",
       "      <td>0.30</td>\n",
       "      <td>8.10</td>\n",
       "      <td>9.60</td>\n",
       "      <td>1.2</td>\n",
       "    </tr>\n",
       "    <tr>\n",
       "      <th>37</th>\n",
       "      <td>Cherry</td>\n",
       "      <td>9</td>\n",
       "      <td>Rosaceae</td>\n",
       "      <td>Rosales</td>\n",
       "      <td>Prunus</td>\n",
       "      <td>50</td>\n",
       "      <td>0.30</td>\n",
       "      <td>8.00</td>\n",
       "      <td>12.00</td>\n",
       "      <td>1.0</td>\n",
       "    </tr>\n",
       "    <tr>\n",
       "      <th>36</th>\n",
       "      <td>Cranberry</td>\n",
       "      <td>87</td>\n",
       "      <td>Ericaceae</td>\n",
       "      <td>Ericales</td>\n",
       "      <td>Vaccinium</td>\n",
       "      <td>46</td>\n",
       "      <td>0.10</td>\n",
       "      <td>4.00</td>\n",
       "      <td>12.20</td>\n",
       "      <td>0.4</td>\n",
       "    </tr>\n",
       "  </tbody>\n",
       "</table>\n",
       "</div>"
      ],
      "text/plain": [
       "                 name   id      family         order      genus  \\\n",
       "47             Annona  103  Annonaceae       Rosales    Annonas   \n",
       "22              Apple    6    Rosaceae       Rosales      Malus   \n",
       "24            Apricot   35    Rosaceae       Rosales     Prunus   \n",
       "34            Avocado   84   Lauraceae      Laurales     Persea   \n",
       "2              Banana    1    Musaceae  Zingiberales       Musa   \n",
       "6          Blackberry   64    Rosaceae       Rosales      Rubus   \n",
       "21          Blueberry   33    Rosaceae       Rosales   Fragaria   \n",
       "48  Ceylon Gooseberry  104  Salicaceae  Malpighiales   Dovyalis   \n",
       "37             Cherry    9    Rosaceae       Rosales     Prunus   \n",
       "36          Cranberry   87   Ericaceae      Ericales  Vaccinium   \n",
       "\n",
       "    nutritions.calories  nutritions.fat  nutritions.sugar  \\\n",
       "47                   92            0.29              3.40   \n",
       "22                   52            0.40             10.30   \n",
       "24                   15            0.10              3.20   \n",
       "34                  160           14.66              0.66   \n",
       "2                    96            0.20             17.20   \n",
       "6                    40            0.40              4.50   \n",
       "21                   29            0.40              5.40   \n",
       "48                   47            0.30              8.10   \n",
       "37                   50            0.30              8.00   \n",
       "36                   46            0.10              4.00   \n",
       "\n",
       "    nutritions.carbohydrates  nutritions.protein  \n",
       "47                     19.10                 1.5  \n",
       "22                     11.40                 0.3  \n",
       "24                      3.90                 0.5  \n",
       "34                      8.53                 2.0  \n",
       "2                      22.00                 1.0  \n",
       "6                       9.00                 1.3  \n",
       "21                      5.50                 0.0  \n",
       "48                      9.60                 1.2  \n",
       "37                     12.00                 1.0  \n",
       "36                     12.20                 0.4  "
      ]
     },
     "execution_count": 4,
     "metadata": {},
     "output_type": "execute_result"
    }
   ],
   "source": [
    "sorted_name = df_u.sort_values(by='name')\n",
    "sorted_name.head(n=10)"
   ]
  },
  {
   "cell_type": "markdown",
   "id": "47cb85e0-1fea-4c8f-b179-b010271ad655",
   "metadata": {},
   "source": [
    "Checking if there is any null values in our dataset"
   ]
  },
  {
   "cell_type": "code",
   "execution_count": 5,
   "id": "09ee5193-356c-4d18-9cfe-d5c5fa912112",
   "metadata": {},
   "outputs": [
    {
     "data": {
      "text/plain": [
       "name                        0\n",
       "id                          0\n",
       "family                      0\n",
       "order                       0\n",
       "genus                       0\n",
       "nutritions.calories         0\n",
       "nutritions.fat              0\n",
       "nutritions.sugar            0\n",
       "nutritions.carbohydrates    0\n",
       "nutritions.protein          0\n",
       "dtype: int64"
      ]
     },
     "execution_count": 5,
     "metadata": {},
     "output_type": "execute_result"
    }
   ],
   "source": [
    "df_u.isnull().sum()"
   ]
  },
  {
   "cell_type": "markdown",
   "id": "a8dc1e11-4ad7-4d58-883f-cf6d906aebeb",
   "metadata": {},
   "source": [
    "Data Information"
   ]
  },
  {
   "cell_type": "code",
   "execution_count": 6,
   "id": "e434a0ae-39f8-407c-bf63-f5cfea85e50a",
   "metadata": {},
   "outputs": [
    {
     "name": "stdout",
     "output_type": "stream",
     "text": [
      "<class 'pandas.core.frame.DataFrame'>\n",
      "RangeIndex: 49 entries, 0 to 48\n",
      "Data columns (total 10 columns):\n",
      " #   Column                    Non-Null Count  Dtype  \n",
      "---  ------                    --------------  -----  \n",
      " 0   name                      49 non-null     object \n",
      " 1   id                        49 non-null     int64  \n",
      " 2   family                    49 non-null     object \n",
      " 3   order                     49 non-null     object \n",
      " 4   genus                     49 non-null     object \n",
      " 5   nutritions.calories       49 non-null     int64  \n",
      " 6   nutritions.fat            49 non-null     float64\n",
      " 7   nutritions.sugar          49 non-null     float64\n",
      " 8   nutritions.carbohydrates  49 non-null     float64\n",
      " 9   nutritions.protein        49 non-null     float64\n",
      "dtypes: float64(4), int64(2), object(4)\n",
      "memory usage: 4.0+ KB\n"
     ]
    }
   ],
   "source": [
    "df_u.info()"
   ]
  },
  {
   "cell_type": "markdown",
   "id": "1e752d10-fd78-4726-943c-33184bafb64b",
   "metadata": {},
   "source": [
    "1a Top 5 fruits with highest calories"
   ]
  },
  {
   "cell_type": "code",
   "execution_count": 7,
   "id": "efaa34bc-af78-462c-a46e-932b075eac3c",
   "metadata": {},
   "outputs": [
    {
     "data": {
      "text/html": [
       "<div>\n",
       "<style scoped>\n",
       "    .dataframe tbody tr th:only-of-type {\n",
       "        vertical-align: middle;\n",
       "    }\n",
       "\n",
       "    .dataframe tbody tr th {\n",
       "        vertical-align: top;\n",
       "    }\n",
       "\n",
       "    .dataframe thead th {\n",
       "        text-align: right;\n",
       "    }\n",
       "</style>\n",
       "<table border=\"1\" class=\"dataframe\">\n",
       "  <thead>\n",
       "    <tr style=\"text-align: right;\">\n",
       "      <th></th>\n",
       "      <th>name</th>\n",
       "      <th>nutritions.calories</th>\n",
       "    </tr>\n",
       "  </thead>\n",
       "  <tbody>\n",
       "    <tr>\n",
       "      <th>41</th>\n",
       "      <td>Hazelnut</td>\n",
       "      <td>628</td>\n",
       "    </tr>\n",
       "    <tr>\n",
       "      <th>34</th>\n",
       "      <td>Avocado</td>\n",
       "      <td>160</td>\n",
       "    </tr>\n",
       "    <tr>\n",
       "      <th>5</th>\n",
       "      <td>Durian</td>\n",
       "      <td>147</td>\n",
       "    </tr>\n",
       "    <tr>\n",
       "      <th>13</th>\n",
       "      <td>Passionfruit</td>\n",
       "      <td>97</td>\n",
       "    </tr>\n",
       "    <tr>\n",
       "      <th>2</th>\n",
       "      <td>Banana</td>\n",
       "      <td>96</td>\n",
       "    </tr>\n",
       "  </tbody>\n",
       "</table>\n",
       "</div>"
      ],
      "text/plain": [
       "            name  nutritions.calories\n",
       "41      Hazelnut                  628\n",
       "34       Avocado                  160\n",
       "5         Durian                  147\n",
       "13  Passionfruit                   97\n",
       "2         Banana                   96"
      ]
     },
     "execution_count": 7,
     "metadata": {},
     "output_type": "execute_result"
    }
   ],
   "source": [
    "high_cal = df_u.sort_values(by = 'nutritions.calories', ascending = False)\n",
    "high_cal[['name','nutritions.calories']].head(n=5)"
   ]
  },
  {
   "cell_type": "markdown",
   "id": "6b6a6154-5ca2-4ed4-86c8-c68379c90490",
   "metadata": {},
   "source": [
    "1b Top 5 fruits with lowest calories"
   ]
  },
  {
   "cell_type": "code",
   "execution_count": 8,
   "id": "e1f354b1-a96a-4684-8e41-3b045546a084",
   "metadata": {},
   "outputs": [
    {
     "data": {
      "text/html": [
       "<div>\n",
       "<style scoped>\n",
       "    .dataframe tbody tr th:only-of-type {\n",
       "        vertical-align: middle;\n",
       "    }\n",
       "\n",
       "    .dataframe tbody tr th {\n",
       "        vertical-align: top;\n",
       "    }\n",
       "\n",
       "    .dataframe thead th {\n",
       "        text-align: right;\n",
       "    }\n",
       "</style>\n",
       "<table border=\"1\" class=\"dataframe\">\n",
       "  <thead>\n",
       "    <tr style=\"text-align: right;\">\n",
       "      <th></th>\n",
       "      <th>name</th>\n",
       "      <th>nutritions.calories</th>\n",
       "    </tr>\n",
       "  </thead>\n",
       "  <tbody>\n",
       "    <tr>\n",
       "      <th>24</th>\n",
       "      <td>Apricot</td>\n",
       "      <td>15</td>\n",
       "    </tr>\n",
       "    <tr>\n",
       "      <th>16</th>\n",
       "      <td>GreenApple</td>\n",
       "      <td>21</td>\n",
       "    </tr>\n",
       "    <tr>\n",
       "      <th>44</th>\n",
       "      <td>Pumpkin</td>\n",
       "      <td>25</td>\n",
       "    </tr>\n",
       "    <tr>\n",
       "      <th>28</th>\n",
       "      <td>Lime</td>\n",
       "      <td>25</td>\n",
       "    </tr>\n",
       "    <tr>\n",
       "      <th>19</th>\n",
       "      <td>Lemon</td>\n",
       "      <td>29</td>\n",
       "    </tr>\n",
       "  </tbody>\n",
       "</table>\n",
       "</div>"
      ],
      "text/plain": [
       "          name  nutritions.calories\n",
       "24     Apricot                   15\n",
       "16  GreenApple                   21\n",
       "44     Pumpkin                   25\n",
       "28        Lime                   25\n",
       "19       Lemon                   29"
      ]
     },
     "execution_count": 8,
     "metadata": {},
     "output_type": "execute_result"
    }
   ],
   "source": [
    "low_cal = df_u.sort_values(by = 'nutritions.calories', ascending = True)\n",
    "low_cal[['name','nutritions.calories']].head(n=5)"
   ]
  },
  {
   "cell_type": "markdown",
   "id": "61e9be0f-b506-40f8-ab53-c24035d363ae",
   "metadata": {},
   "source": [
    "We can see from the sorting and histogram that the Calories value of Hazelnut is acting as a Outliers in the dataset"
   ]
  },
  {
   "cell_type": "code",
   "execution_count": 9,
   "id": "eae7dce5-cced-4c47-8b1a-fbe6ca16d949",
   "metadata": {},
   "outputs": [
    {
     "data": {
      "image/png": "[encoded data removed]",
      "text/plain": [
       "<Figure size 600x200 with 1 Axes>"
      ]
     },
     "metadata": {},
     "output_type": "display_data"
    }
   ],
   "source": [
    "plt.figure(figsize = (6,2))\n",
    "plt_ran = sns.histplot(data=df_u['nutritions.calories'])\n",
    "plt_ran.set_title('Relation among Nutritions')\n",
    "plt.show()"
   ]
  },
  {
   "cell_type": "markdown",
   "id": "d7c7fa76-3fe6-4b9a-a5b6-8a5974f59509",
   "metadata": {},
   "source": [
    "We can use 2-3 standard deviation to measure the outliers and remove them"
   ]
  },
  {
   "cell_type": "code",
   "execution_count": 10,
   "id": "2cc86088-34bd-4d00-9de9-840c72487274",
   "metadata": {},
   "outputs": [
    {
     "data": {
      "text/plain": [
       "(327.8729730334761, -190.8525648702108)"
      ]
     },
     "execution_count": 10,
     "metadata": {},
     "output_type": "execute_result"
    }
   ],
   "source": [
    "upper = df_u['nutritions.calories'].mean() + 3*df_u['nutritions.calories'].std()\n",
    "lower = df_u['nutritions.calories'].mean() - 3*df_u['nutritions.calories'].std()\n",
    "upper, lower"
   ]
  },
  {
   "cell_type": "markdown",
   "id": "cab8cd76-417d-43f0-b894-88cea8067514",
   "metadata": {},
   "source": [
    "Here hazelnut is outliers and for its value we cant get accurate results"
   ]
  },
  {
   "cell_type": "code",
   "execution_count": 11,
   "id": "bcf508c2-fba0-417f-9f90-5b089e777075",
   "metadata": {},
   "outputs": [
    {
     "data": {
      "text/html": [
       "<div>\n",
       "<style scoped>\n",
       "    .dataframe tbody tr th:only-of-type {\n",
       "        vertical-align: middle;\n",
       "    }\n",
       "\n",
       "    .dataframe tbody tr th {\n",
       "        vertical-align: top;\n",
       "    }\n",
       "\n",
       "    .dataframe thead th {\n",
       "        text-align: right;\n",
       "    }\n",
       "</style>\n",
       "<table border=\"1\" class=\"dataframe\">\n",
       "  <thead>\n",
       "    <tr style=\"text-align: right;\">\n",
       "      <th></th>\n",
       "      <th>name</th>\n",
       "      <th>id</th>\n",
       "      <th>family</th>\n",
       "      <th>order</th>\n",
       "      <th>genus</th>\n",
       "      <th>nutritions.calories</th>\n",
       "      <th>nutritions.fat</th>\n",
       "      <th>nutritions.sugar</th>\n",
       "      <th>nutritions.carbohydrates</th>\n",
       "      <th>nutritions.protein</th>\n",
       "    </tr>\n",
       "  </thead>\n",
       "  <tbody>\n",
       "    <tr>\n",
       "      <th>41</th>\n",
       "      <td>Hazelnut</td>\n",
       "      <td>96</td>\n",
       "      <td>Betulaceae</td>\n",
       "      <td>Fagales</td>\n",
       "      <td>Corylus</td>\n",
       "      <td>628</td>\n",
       "      <td>61.0</td>\n",
       "      <td>4.3</td>\n",
       "      <td>17.0</td>\n",
       "      <td>15.0</td>\n",
       "    </tr>\n",
       "  </tbody>\n",
       "</table>\n",
       "</div>"
      ],
      "text/plain": [
       "        name  id      family    order    genus  nutritions.calories  \\\n",
       "41  Hazelnut  96  Betulaceae  Fagales  Corylus                  628   \n",
       "\n",
       "    nutritions.fat  nutritions.sugar  nutritions.carbohydrates  \\\n",
       "41            61.0               4.3                      17.0   \n",
       "\n",
       "    nutritions.protein  \n",
       "41                15.0  "
      ]
     },
     "execution_count": 11,
     "metadata": {},
     "output_type": "execute_result"
    }
   ],
   "source": [
    "df_u[(df_u['nutritions.calories'] < lower) | (df_u['nutritions.calories'] > upper)]"
   ]
  },
  {
   "cell_type": "markdown",
   "id": "35e4c2a9-af3a-4870-b287-4b519c0fcda1",
   "metadata": {},
   "source": [
    "Result without outliers"
   ]
  },
  {
   "cell_type": "code",
   "execution_count": 12,
   "id": "01fc600e-d37b-49b5-91d2-9d819d2bfdaf",
   "metadata": {},
   "outputs": [
    {
     "data": {
      "text/plain": [
       "(48, 10)"
      ]
     },
     "execution_count": 12,
     "metadata": {},
     "output_type": "execute_result"
    }
   ],
   "source": [
    "df = df_u[(df_u['nutritions.calories'] > lower) & (df_u['nutritions.calories'] < upper)]\n",
    "df.shape"
   ]
  },
  {
   "cell_type": "markdown",
   "id": "695ab8cc-fc9a-4d09-bad7-c0bcc9e4033a",
   "metadata": {},
   "source": [
    "2a Top 5 fruits with highest fat"
   ]
  },
  {
   "cell_type": "code",
   "execution_count": 13,
   "id": "deef0bea-cc30-4e1a-8287-9533a73fd57f",
   "metadata": {},
   "outputs": [
    {
     "data": {
      "text/html": [
       "<div>\n",
       "<style scoped>\n",
       "    .dataframe tbody tr th:only-of-type {\n",
       "        vertical-align: middle;\n",
       "    }\n",
       "\n",
       "    .dataframe tbody tr th {\n",
       "        vertical-align: top;\n",
       "    }\n",
       "\n",
       "    .dataframe thead th {\n",
       "        text-align: right;\n",
       "    }\n",
       "</style>\n",
       "<table border=\"1\" class=\"dataframe\">\n",
       "  <thead>\n",
       "    <tr style=\"text-align: right;\">\n",
       "      <th></th>\n",
       "      <th>name</th>\n",
       "      <th>nutritions.fat</th>\n",
       "    </tr>\n",
       "  </thead>\n",
       "  <tbody>\n",
       "    <tr>\n",
       "      <th>34</th>\n",
       "      <td>Avocado</td>\n",
       "      <td>14.66</td>\n",
       "    </tr>\n",
       "    <tr>\n",
       "      <th>5</th>\n",
       "      <td>Durian</td>\n",
       "      <td>5.30</td>\n",
       "    </tr>\n",
       "    <tr>\n",
       "      <th>30</th>\n",
       "      <td>Dragonfruit</td>\n",
       "      <td>1.50</td>\n",
       "    </tr>\n",
       "    <tr>\n",
       "      <th>40</th>\n",
       "      <td>Horned Melon</td>\n",
       "      <td>1.26</td>\n",
       "    </tr>\n",
       "    <tr>\n",
       "      <th>29</th>\n",
       "      <td>Pomegranate</td>\n",
       "      <td>1.20</td>\n",
       "    </tr>\n",
       "  </tbody>\n",
       "</table>\n",
       "</div>"
      ],
      "text/plain": [
       "            name  nutritions.fat\n",
       "34       Avocado           14.66\n",
       "5         Durian            5.30\n",
       "30   Dragonfruit            1.50\n",
       "40  Horned Melon            1.26\n",
       "29   Pomegranate            1.20"
      ]
     },
     "execution_count": 13,
     "metadata": {},
     "output_type": "execute_result"
    }
   ],
   "source": [
    "high_fat = df.sort_values(by = 'nutritions.fat', ascending = False)\n",
    "high_fat[['name','nutritions.fat']].head()"
   ]
  },
  {
   "cell_type": "markdown",
   "id": "4ebd3e0e-aeaf-4bea-a3fc-b337c14d81c6",
   "metadata": {},
   "source": [
    "2b Top 5 fruits with lowest fat"
   ]
  },
  {
   "cell_type": "code",
   "execution_count": 14,
   "id": "4ded8fbc-4c88-4616-abd6-391c55f318de",
   "metadata": {},
   "outputs": [
    {
     "data": {
      "text/html": [
       "<div>\n",
       "<style scoped>\n",
       "    .dataframe tbody tr th:only-of-type {\n",
       "        vertical-align: middle;\n",
       "    }\n",
       "\n",
       "    .dataframe tbody tr th {\n",
       "        vertical-align: top;\n",
       "    }\n",
       "\n",
       "    .dataframe thead th {\n",
       "        text-align: right;\n",
       "    }\n",
       "</style>\n",
       "<table border=\"1\" class=\"dataframe\">\n",
       "  <thead>\n",
       "    <tr style=\"text-align: right;\">\n",
       "      <th></th>\n",
       "      <th>name</th>\n",
       "      <th>nutritions.fat</th>\n",
       "    </tr>\n",
       "  </thead>\n",
       "  <tbody>\n",
       "    <tr>\n",
       "      <th>0</th>\n",
       "      <td>Persimmon</td>\n",
       "      <td>0.0</td>\n",
       "    </tr>\n",
       "    <tr>\n",
       "      <th>25</th>\n",
       "      <td>Melon</td>\n",
       "      <td>0.0</td>\n",
       "    </tr>\n",
       "    <tr>\n",
       "      <th>42</th>\n",
       "      <td>Pomelo</td>\n",
       "      <td>0.0</td>\n",
       "    </tr>\n",
       "    <tr>\n",
       "      <th>39</th>\n",
       "      <td>Jackfruit</td>\n",
       "      <td>0.0</td>\n",
       "    </tr>\n",
       "    <tr>\n",
       "      <th>28</th>\n",
       "      <td>Lime</td>\n",
       "      <td>0.1</td>\n",
       "    </tr>\n",
       "  </tbody>\n",
       "</table>\n",
       "</div>"
      ],
      "text/plain": [
       "         name  nutritions.fat\n",
       "0   Persimmon             0.0\n",
       "25      Melon             0.0\n",
       "42     Pomelo             0.0\n",
       "39  Jackfruit             0.0\n",
       "28       Lime             0.1"
      ]
     },
     "execution_count": 14,
     "metadata": {},
     "output_type": "execute_result"
    }
   ],
   "source": [
    "low_fat = df.sort_values(by = 'nutritions.fat', ascending = True)\n",
    "low_fat[['name','nutritions.fat']].head()"
   ]
  },
  {
   "cell_type": "markdown",
   "id": "f7702197-4570-48e3-81a7-182278d2bd2b",
   "metadata": {},
   "source": [
    "3a Top 5 fruits with highest sugar"
   ]
  },
  {
   "cell_type": "code",
   "execution_count": 15,
   "id": "19ea3f6f-0bc7-4f41-8844-22bff8ac0eaf",
   "metadata": {},
   "outputs": [
    {
     "data": {
      "text/html": [
       "<div>\n",
       "<style scoped>\n",
       "    .dataframe tbody tr th:only-of-type {\n",
       "        vertical-align: middle;\n",
       "    }\n",
       "\n",
       "    .dataframe tbody tr th {\n",
       "        vertical-align: top;\n",
       "    }\n",
       "\n",
       "    .dataframe thead th {\n",
       "        text-align: right;\n",
       "    }\n",
       "</style>\n",
       "<table border=\"1\" class=\"dataframe\">\n",
       "  <thead>\n",
       "    <tr style=\"text-align: right;\">\n",
       "      <th></th>\n",
       "      <th>name</th>\n",
       "      <th>nutritions.sugar</th>\n",
       "    </tr>\n",
       "  </thead>\n",
       "  <tbody>\n",
       "    <tr>\n",
       "      <th>39</th>\n",
       "      <td>Jackfruit</td>\n",
       "      <td>19.10</td>\n",
       "    </tr>\n",
       "    <tr>\n",
       "      <th>0</th>\n",
       "      <td>Persimmon</td>\n",
       "      <td>18.00</td>\n",
       "    </tr>\n",
       "    <tr>\n",
       "      <th>2</th>\n",
       "      <td>Banana</td>\n",
       "      <td>17.20</td>\n",
       "    </tr>\n",
       "    <tr>\n",
       "      <th>43</th>\n",
       "      <td>Mangosteen</td>\n",
       "      <td>16.11</td>\n",
       "    </tr>\n",
       "    <tr>\n",
       "      <th>31</th>\n",
       "      <td>Grape</td>\n",
       "      <td>16.00</td>\n",
       "    </tr>\n",
       "  </tbody>\n",
       "</table>\n",
       "</div>"
      ],
      "text/plain": [
       "          name  nutritions.sugar\n",
       "39   Jackfruit             19.10\n",
       "0    Persimmon             18.00\n",
       "2       Banana             17.20\n",
       "43  Mangosteen             16.11\n",
       "31       Grape             16.00"
      ]
     },
     "execution_count": 15,
     "metadata": {},
     "output_type": "execute_result"
    }
   ],
   "source": [
    "high_sugar = df.sort_values('nutritions.sugar', ascending = False)\n",
    "high_sugar[['name','nutritions.sugar']].head()"
   ]
  },
  {
   "cell_type": "markdown",
   "id": "434f44ae-85cb-4086-b694-973e67eaaa13",
   "metadata": {},
   "source": [
    "3b Top 5 fruits with lowest sugar"
   ]
  },
  {
   "cell_type": "code",
   "execution_count": 16,
   "id": "d0b63ec0-79e2-4580-b303-9cc0fe14c301",
   "metadata": {},
   "outputs": [
    {
     "data": {
      "text/html": [
       "<div>\n",
       "<style scoped>\n",
       "    .dataframe tbody tr th:only-of-type {\n",
       "        vertical-align: middle;\n",
       "    }\n",
       "\n",
       "    .dataframe tbody tr th {\n",
       "        vertical-align: top;\n",
       "    }\n",
       "\n",
       "    .dataframe thead th {\n",
       "        text-align: right;\n",
       "    }\n",
       "</style>\n",
       "<table border=\"1\" class=\"dataframe\">\n",
       "  <thead>\n",
       "    <tr style=\"text-align: right;\">\n",
       "      <th></th>\n",
       "      <th>name</th>\n",
       "      <th>nutritions.sugar</th>\n",
       "    </tr>\n",
       "  </thead>\n",
       "  <tbody>\n",
       "    <tr>\n",
       "      <th>12</th>\n",
       "      <td>Gooseberry</td>\n",
       "      <td>0.00</td>\n",
       "    </tr>\n",
       "    <tr>\n",
       "      <th>40</th>\n",
       "      <td>Horned Melon</td>\n",
       "      <td>0.50</td>\n",
       "    </tr>\n",
       "    <tr>\n",
       "      <th>34</th>\n",
       "      <td>Avocado</td>\n",
       "      <td>0.66</td>\n",
       "    </tr>\n",
       "    <tr>\n",
       "      <th>28</th>\n",
       "      <td>Lime</td>\n",
       "      <td>1.70</td>\n",
       "    </tr>\n",
       "    <tr>\n",
       "      <th>19</th>\n",
       "      <td>Lemon</td>\n",
       "      <td>2.50</td>\n",
       "    </tr>\n",
       "  </tbody>\n",
       "</table>\n",
       "</div>"
      ],
      "text/plain": [
       "            name  nutritions.sugar\n",
       "12    Gooseberry              0.00\n",
       "40  Horned Melon              0.50\n",
       "34       Avocado              0.66\n",
       "28          Lime              1.70\n",
       "19         Lemon              2.50"
      ]
     },
     "execution_count": 16,
     "metadata": {},
     "output_type": "execute_result"
    }
   ],
   "source": [
    "low_sugar = df.sort_values('nutritions.sugar')\n",
    "low_sugar[['name','nutritions.sugar']].head()"
   ]
  },
  {
   "cell_type": "markdown",
   "id": "cb42b6b8-398a-47ee-958e-838913c20abb",
   "metadata": {},
   "source": [
    "4a Top 5 fruits with highest carbs"
   ]
  },
  {
   "cell_type": "code",
   "execution_count": 17,
   "id": "db2381d2-6a74-438a-a91a-e884fe9d87f0",
   "metadata": {},
   "outputs": [
    {
     "data": {
      "text/html": [
       "<div>\n",
       "<style scoped>\n",
       "    .dataframe tbody tr th:only-of-type {\n",
       "        vertical-align: middle;\n",
       "    }\n",
       "\n",
       "    .dataframe tbody tr th {\n",
       "        vertical-align: top;\n",
       "    }\n",
       "\n",
       "    .dataframe thead th {\n",
       "        text-align: right;\n",
       "    }\n",
       "</style>\n",
       "<table border=\"1\" class=\"dataframe\">\n",
       "  <thead>\n",
       "    <tr style=\"text-align: right;\">\n",
       "      <th></th>\n",
       "      <th>name</th>\n",
       "      <th>nutritions.carbohydrates</th>\n",
       "    </tr>\n",
       "  </thead>\n",
       "  <tbody>\n",
       "    <tr>\n",
       "      <th>5</th>\n",
       "      <td>Durian</td>\n",
       "      <td>27.1</td>\n",
       "    </tr>\n",
       "    <tr>\n",
       "      <th>39</th>\n",
       "      <td>Jackfruit</td>\n",
       "      <td>23.2</td>\n",
       "    </tr>\n",
       "    <tr>\n",
       "      <th>13</th>\n",
       "      <td>Passionfruit</td>\n",
       "      <td>22.4</td>\n",
       "    </tr>\n",
       "    <tr>\n",
       "      <th>2</th>\n",
       "      <td>Banana</td>\n",
       "      <td>22.0</td>\n",
       "    </tr>\n",
       "    <tr>\n",
       "      <th>47</th>\n",
       "      <td>Annona</td>\n",
       "      <td>19.1</td>\n",
       "    </tr>\n",
       "  </tbody>\n",
       "</table>\n",
       "</div>"
      ],
      "text/plain": [
       "            name  nutritions.carbohydrates\n",
       "5         Durian                      27.1\n",
       "39     Jackfruit                      23.2\n",
       "13  Passionfruit                      22.4\n",
       "2         Banana                      22.0\n",
       "47        Annona                      19.1"
      ]
     },
     "execution_count": 17,
     "metadata": {},
     "output_type": "execute_result"
    }
   ],
   "source": [
    "high_carbs = df.sort_values('nutritions.carbohydrates', ascending = False)\n",
    "high_carbs[['name','nutritions.carbohydrates']].head()"
   ]
  },
  {
   "cell_type": "markdown",
   "id": "e0d81fcf-547a-4cea-af45-600c7c389b1c",
   "metadata": {},
   "source": [
    "4b Top 5 fruits with lowest carbs"
   ]
  },
  {
   "cell_type": "code",
   "execution_count": 18,
   "id": "deb38f2c-9239-4d2e-856f-c9975a00d87e",
   "metadata": {},
   "outputs": [
    {
     "data": {
      "text/html": [
       "<div>\n",
       "<style scoped>\n",
       "    .dataframe tbody tr th:only-of-type {\n",
       "        vertical-align: middle;\n",
       "    }\n",
       "\n",
       "    .dataframe tbody tr th {\n",
       "        vertical-align: top;\n",
       "    }\n",
       "\n",
       "    .dataframe thead th {\n",
       "        text-align: right;\n",
       "    }\n",
       "</style>\n",
       "<table border=\"1\" class=\"dataframe\">\n",
       "  <thead>\n",
       "    <tr style=\"text-align: right;\">\n",
       "      <th></th>\n",
       "      <th>name</th>\n",
       "      <th>nutritions.carbohydrates</th>\n",
       "    </tr>\n",
       "  </thead>\n",
       "  <tbody>\n",
       "    <tr>\n",
       "      <th>16</th>\n",
       "      <td>GreenApple</td>\n",
       "      <td>3.1</td>\n",
       "    </tr>\n",
       "    <tr>\n",
       "      <th>3</th>\n",
       "      <td>Tomato</td>\n",
       "      <td>3.9</td>\n",
       "    </tr>\n",
       "    <tr>\n",
       "      <th>24</th>\n",
       "      <td>Apricot</td>\n",
       "      <td>3.9</td>\n",
       "    </tr>\n",
       "    <tr>\n",
       "      <th>44</th>\n",
       "      <td>Pumpkin</td>\n",
       "      <td>4.6</td>\n",
       "    </tr>\n",
       "    <tr>\n",
       "      <th>1</th>\n",
       "      <td>Strawberry</td>\n",
       "      <td>5.5</td>\n",
       "    </tr>\n",
       "  </tbody>\n",
       "</table>\n",
       "</div>"
      ],
      "text/plain": [
       "          name  nutritions.carbohydrates\n",
       "16  GreenApple                       3.1\n",
       "3       Tomato                       3.9\n",
       "24     Apricot                       3.9\n",
       "44     Pumpkin                       4.6\n",
       "1   Strawberry                       5.5"
      ]
     },
     "execution_count": 18,
     "metadata": {},
     "output_type": "execute_result"
    }
   ],
   "source": [
    "low_carbs = df.sort_values('nutritions.carbohydrates')\n",
    "low_carbs[['name','nutritions.carbohydrates']].head()"
   ]
  },
  {
   "cell_type": "markdown",
   "id": "1faa7ecb-7f5c-4eca-aef5-da591ccc123a",
   "metadata": {},
   "source": [
    "5a Top 5 fruits with highest protein"
   ]
  },
  {
   "cell_type": "code",
   "execution_count": 19,
   "id": "e6bac828-cbc5-47e4-a73c-e268eefcf5c8",
   "metadata": {},
   "outputs": [
    {
     "data": {
      "text/html": [
       "<div>\n",
       "<style scoped>\n",
       "    .dataframe tbody tr th:only-of-type {\n",
       "        vertical-align: middle;\n",
       "    }\n",
       "\n",
       "    .dataframe tbody tr th {\n",
       "        vertical-align: top;\n",
       "    }\n",
       "\n",
       "    .dataframe thead th {\n",
       "        text-align: right;\n",
       "    }\n",
       "</style>\n",
       "<table border=\"1\" class=\"dataframe\">\n",
       "  <thead>\n",
       "    <tr style=\"text-align: right;\">\n",
       "      <th></th>\n",
       "      <th>name</th>\n",
       "      <th>nutritions.protein</th>\n",
       "    </tr>\n",
       "  </thead>\n",
       "  <tbody>\n",
       "    <tr>\n",
       "      <th>30</th>\n",
       "      <td>Dragonfruit</td>\n",
       "      <td>9.00</td>\n",
       "    </tr>\n",
       "    <tr>\n",
       "      <th>23</th>\n",
       "      <td>Guava</td>\n",
       "      <td>2.60</td>\n",
       "    </tr>\n",
       "    <tr>\n",
       "      <th>13</th>\n",
       "      <td>Passionfruit</td>\n",
       "      <td>2.20</td>\n",
       "    </tr>\n",
       "    <tr>\n",
       "      <th>34</th>\n",
       "      <td>Avocado</td>\n",
       "      <td>2.00</td>\n",
       "    </tr>\n",
       "    <tr>\n",
       "      <th>40</th>\n",
       "      <td>Horned Melon</td>\n",
       "      <td>1.78</td>\n",
       "    </tr>\n",
       "  </tbody>\n",
       "</table>\n",
       "</div>"
      ],
      "text/plain": [
       "            name  nutritions.protein\n",
       "30   Dragonfruit                9.00\n",
       "23         Guava                2.60\n",
       "13  Passionfruit                2.20\n",
       "34       Avocado                2.00\n",
       "40  Horned Melon                1.78"
      ]
     },
     "execution_count": 19,
     "metadata": {},
     "output_type": "execute_result"
    }
   ],
   "source": [
    "high_protein = df.sort_values('nutritions.protein', ascending = False)\n",
    "high_protein[['name','nutritions.protein']].head()"
   ]
  },
  {
   "cell_type": "markdown",
   "id": "6cf7747c-524f-4cf0-b10a-97a936d20369",
   "metadata": {},
   "source": [
    "5b Top 5 fruits with lowest protein"
   ]
  },
  {
   "cell_type": "code",
   "execution_count": 20,
   "id": "13e75031-cfcc-4a39-a795-fe926cba3513",
   "metadata": {},
   "outputs": [
    {
     "data": {
      "text/html": [
       "<div>\n",
       "<style scoped>\n",
       "    .dataframe tbody tr th:only-of-type {\n",
       "        vertical-align: middle;\n",
       "    }\n",
       "\n",
       "    .dataframe tbody tr th {\n",
       "        vertical-align: top;\n",
       "    }\n",
       "\n",
       "    .dataframe thead th {\n",
       "        text-align: right;\n",
       "    }\n",
       "</style>\n",
       "<table border=\"1\" class=\"dataframe\">\n",
       "  <thead>\n",
       "    <tr style=\"text-align: right;\">\n",
       "      <th></th>\n",
       "      <th>name</th>\n",
       "      <th>nutritions.protein</th>\n",
       "    </tr>\n",
       "  </thead>\n",
       "  <tbody>\n",
       "    <tr>\n",
       "      <th>0</th>\n",
       "      <td>Persimmon</td>\n",
       "      <td>0.0</td>\n",
       "    </tr>\n",
       "    <tr>\n",
       "      <th>26</th>\n",
       "      <td>Tangerine</td>\n",
       "      <td>0.0</td>\n",
       "    </tr>\n",
       "    <tr>\n",
       "      <th>25</th>\n",
       "      <td>Melon</td>\n",
       "      <td>0.0</td>\n",
       "    </tr>\n",
       "    <tr>\n",
       "      <th>21</th>\n",
       "      <td>Blueberry</td>\n",
       "      <td>0.0</td>\n",
       "    </tr>\n",
       "    <tr>\n",
       "      <th>28</th>\n",
       "      <td>Lime</td>\n",
       "      <td>0.3</td>\n",
       "    </tr>\n",
       "  </tbody>\n",
       "</table>\n",
       "</div>"
      ],
      "text/plain": [
       "         name  nutritions.protein\n",
       "0   Persimmon                 0.0\n",
       "26  Tangerine                 0.0\n",
       "25      Melon                 0.0\n",
       "21  Blueberry                 0.0\n",
       "28       Lime                 0.3"
      ]
     },
     "execution_count": 20,
     "metadata": {},
     "output_type": "execute_result"
    }
   ],
   "source": [
    "low_protein = df.sort_values('nutritions.protein')\n",
    "low_protein[['name','nutritions.protein']].head()"
   ]
  },
  {
   "cell_type": "markdown",
   "id": "1b2d641f-cb0b-46c1-9a9f-de24600a59f0",
   "metadata": {},
   "source": [
    "Statistical description"
   ]
  },
  {
   "cell_type": "code",
   "execution_count": 21,
   "id": "86963349-f1bb-48c7-bfbd-836863e4f739",
   "metadata": {},
   "outputs": [
    {
     "data": {
      "text/html": [
       "<div>\n",
       "<style scoped>\n",
       "    .dataframe tbody tr th:only-of-type {\n",
       "        vertical-align: middle;\n",
       "    }\n",
       "\n",
       "    .dataframe tbody tr th {\n",
       "        vertical-align: top;\n",
       "    }\n",
       "\n",
       "    .dataframe thead th {\n",
       "        text-align: right;\n",
       "    }\n",
       "</style>\n",
       "<table border=\"1\" class=\"dataframe\">\n",
       "  <thead>\n",
       "    <tr style=\"text-align: right;\">\n",
       "      <th></th>\n",
       "      <th>id</th>\n",
       "      <th>nutritions.calories</th>\n",
       "      <th>nutritions.fat</th>\n",
       "      <th>nutritions.sugar</th>\n",
       "      <th>nutritions.carbohydrates</th>\n",
       "      <th>nutritions.protein</th>\n",
       "    </tr>\n",
       "  </thead>\n",
       "  <tbody>\n",
       "    <tr>\n",
       "      <th>count</th>\n",
       "      <td>48.00</td>\n",
       "      <td>48.00</td>\n",
       "      <td>48.00</td>\n",
       "      <td>48.00</td>\n",
       "      <td>48.00</td>\n",
       "      <td>48.00</td>\n",
       "    </tr>\n",
       "    <tr>\n",
       "      <th>mean</th>\n",
       "      <td>58.04</td>\n",
       "      <td>56.85</td>\n",
       "      <td>0.78</td>\n",
       "      <td>8.07</td>\n",
       "      <td>12.05</td>\n",
       "      <td>1.08</td>\n",
       "    </tr>\n",
       "    <tr>\n",
       "      <th>std</th>\n",
       "      <td>32.62</td>\n",
       "      <td>28.89</td>\n",
       "      <td>2.19</td>\n",
       "      <td>4.93</td>\n",
       "      <td>5.68</td>\n",
       "      <td>1.30</td>\n",
       "    </tr>\n",
       "    <tr>\n",
       "      <th>min</th>\n",
       "      <td>1.00</td>\n",
       "      <td>15.00</td>\n",
       "      <td>0.00</td>\n",
       "      <td>0.00</td>\n",
       "      <td>3.10</td>\n",
       "      <td>0.00</td>\n",
       "    </tr>\n",
       "    <tr>\n",
       "      <th>25%</th>\n",
       "      <td>31.50</td>\n",
       "      <td>39.00</td>\n",
       "      <td>0.20</td>\n",
       "      <td>4.30</td>\n",
       "      <td>8.23</td>\n",
       "      <td>0.53</td>\n",
       "    </tr>\n",
       "    <tr>\n",
       "      <th>50%</th>\n",
       "      <td>67.50</td>\n",
       "      <td>50.00</td>\n",
       "      <td>0.30</td>\n",
       "      <td>8.05</td>\n",
       "      <td>10.65</td>\n",
       "      <td>0.86</td>\n",
       "    </tr>\n",
       "    <tr>\n",
       "      <th>75%</th>\n",
       "      <td>82.50</td>\n",
       "      <td>69.25</td>\n",
       "      <td>0.46</td>\n",
       "      <td>10.07</td>\n",
       "      <td>15.50</td>\n",
       "      <td>1.20</td>\n",
       "    </tr>\n",
       "    <tr>\n",
       "      <th>max</th>\n",
       "      <td>104.00</td>\n",
       "      <td>160.00</td>\n",
       "      <td>14.66</td>\n",
       "      <td>19.10</td>\n",
       "      <td>27.10</td>\n",
       "      <td>9.00</td>\n",
       "    </tr>\n",
       "  </tbody>\n",
       "</table>\n",
       "</div>"
      ],
      "text/plain": [
       "           id  nutritions.calories  nutritions.fat  nutritions.sugar  \\\n",
       "count   48.00                48.00           48.00             48.00   \n",
       "mean    58.04                56.85            0.78              8.07   \n",
       "std     32.62                28.89            2.19              4.93   \n",
       "min      1.00                15.00            0.00              0.00   \n",
       "25%     31.50                39.00            0.20              4.30   \n",
       "50%     67.50                50.00            0.30              8.05   \n",
       "75%     82.50                69.25            0.46             10.07   \n",
       "max    104.00               160.00           14.66             19.10   \n",
       "\n",
       "       nutritions.carbohydrates  nutritions.protein  \n",
       "count                     48.00               48.00  \n",
       "mean                      12.05                1.08  \n",
       "std                        5.68                1.30  \n",
       "min                        3.10                0.00  \n",
       "25%                        8.23                0.53  \n",
       "50%                       10.65                0.86  \n",
       "75%                       15.50                1.20  \n",
       "max                       27.10                9.00  "
      ]
     },
     "execution_count": 21,
     "metadata": {},
     "output_type": "execute_result"
    }
   ],
   "source": [
    "df.describe().round(2)"
   ]
  },
  {
   "cell_type": "markdown",
   "id": "8a47f0fa-d3d2-4f61-a77d-9be929f55aec",
   "metadata": {},
   "source": [
    "Relationship between nutrition content of the fruits using Correlation"
   ]
  },
  {
   "cell_type": "code",
   "execution_count": 22,
   "id": "c41fd344-dd9a-44ff-a0e4-6e1b647cab1d",
   "metadata": {},
   "outputs": [
    {
     "data": {
      "text/html": [
       "<div>\n",
       "<style scoped>\n",
       "    .dataframe tbody tr th:only-of-type {\n",
       "        vertical-align: middle;\n",
       "    }\n",
       "\n",
       "    .dataframe tbody tr th {\n",
       "        vertical-align: top;\n",
       "    }\n",
       "\n",
       "    .dataframe thead th {\n",
       "        text-align: right;\n",
       "    }\n",
       "</style>\n",
       "<table border=\"1\" class=\"dataframe\">\n",
       "  <thead>\n",
       "    <tr style=\"text-align: right;\">\n",
       "      <th></th>\n",
       "      <th>protein</th>\n",
       "      <th>fat</th>\n",
       "      <th>calories</th>\n",
       "      <th>sugar</th>\n",
       "      <th>carbohydrates</th>\n",
       "    </tr>\n",
       "  </thead>\n",
       "  <tbody>\n",
       "    <tr>\n",
       "      <th>protein</th>\n",
       "      <td>1.00</td>\n",
       "      <td>0.21</td>\n",
       "      <td>0.23</td>\n",
       "      <td>-0.03</td>\n",
       "      <td>0.06</td>\n",
       "    </tr>\n",
       "    <tr>\n",
       "      <th>fat</th>\n",
       "      <td>0.21</td>\n",
       "      <td>1.00</td>\n",
       "      <td>0.66</td>\n",
       "      <td>-0.24</td>\n",
       "      <td>0.05</td>\n",
       "    </tr>\n",
       "    <tr>\n",
       "      <th>calories</th>\n",
       "      <td>0.23</td>\n",
       "      <td>0.66</td>\n",
       "      <td>1.00</td>\n",
       "      <td>0.32</td>\n",
       "      <td>0.71</td>\n",
       "    </tr>\n",
       "    <tr>\n",
       "      <th>sugar</th>\n",
       "      <td>-0.03</td>\n",
       "      <td>-0.24</td>\n",
       "      <td>0.32</td>\n",
       "      <td>1.00</td>\n",
       "      <td>0.69</td>\n",
       "    </tr>\n",
       "    <tr>\n",
       "      <th>carbohydrates</th>\n",
       "      <td>0.06</td>\n",
       "      <td>0.05</td>\n",
       "      <td>0.71</td>\n",
       "      <td>0.69</td>\n",
       "      <td>1.00</td>\n",
       "    </tr>\n",
       "  </tbody>\n",
       "</table>\n",
       "</div>"
      ],
      "text/plain": [
       "               protein   fat  calories  sugar  carbohydrates\n",
       "protein           1.00  0.21      0.23  -0.03           0.06\n",
       "fat               0.21  1.00      0.66  -0.24           0.05\n",
       "calories          0.23  0.66      1.00   0.32           0.71\n",
       "sugar            -0.03 -0.24      0.32   1.00           0.69\n",
       "carbohydrates     0.06  0.05      0.71   0.69           1.00"
      ]
     },
     "execution_count": 22,
     "metadata": {},
     "output_type": "execute_result"
    }
   ],
   "source": [
    "cor = df[['nutritions.protein','nutritions.fat','nutritions.calories','nutritions.sugar','nutritions.carbohydrates']].corr().rename(columns=lambda x: x.split('.')[-1], index=lambda x: x.split('.')[-1])\n",
    "cor.round(2)"
   ]
  },
  {
   "cell_type": "markdown",
   "id": "b286af87-9ec9-47f4-a98b-402a8f4244d3",
   "metadata": {},
   "source": [
    "Heatmap to visualize the relationship "
   ]
  },
  {
   "cell_type": "markdown",
   "id": "abec2910-f8c6-41d1-8ab2-84c6fade666f",
   "metadata": {},
   "source": [
    "correalation lies between -1 to +1 \n",
    "values close to +-1 shows good relations\n",
    "whereas values close to 0 shows bad relations"
   ]
  },
  {
   "cell_type": "code",
   "execution_count": 23,
   "id": "066e86f6-d468-4e38-ad78-93730196e070",
   "metadata": {},
   "outputs": [
    {
     "data": {
      "image/png": "[encoded data removed]",
      "text/plain": [
       "<Figure size 600x200 with 2 Axes>"
      ]
     },
     "metadata": {},
     "output_type": "display_data"
    }
   ],
   "source": [
    "plt.figure(figsize=(6,2))\n",
    "plot = sns.heatmap(data = cor, annot = True)\n",
    "plot.set_title('Relation among Nutritions')\n",
    "plt.show()"
   ]
  },
  {
   "cell_type": "markdown",
   "id": "99a7f606-c63c-46ab-bb41-a006182f5677",
   "metadata": {},
   "source": [
    "Relationship between Calories and Carbs"
   ]
  },
  {
   "cell_type": "code",
   "execution_count": 24,
   "id": "9543c085-4241-4ad9-8625-a032530a3cca",
   "metadata": {},
   "outputs": [
    {
     "data": {
      "image/png": "[encoded data removed]",
      "text/plain": [
       "<Figure size 500x200 with 1 Axes>"
      ]
     },
     "metadata": {},
     "output_type": "display_data"
    }
   ],
   "source": [
    "plt.figure(figsize=(5,2))\n",
    "plot = sns.regplot(y = df['nutritions.calories'], x = df['nutritions.carbohydrates'], line_kws=dict(color=\"r\"))\n",
    "plot.set_title('Calories vs Carbs')\n",
    "plt.show()"
   ]
  },
  {
   "cell_type": "markdown",
   "id": "2278bfbc-4e19-476e-8f72-f6c830c27f7e",
   "metadata": {},
   "source": [
    "Relationship between Calories vs Sugar"
   ]
  },
  {
   "cell_type": "code",
   "execution_count": 25,
   "id": "50dcf9e3-0bbc-4c5f-a1a7-d7a03b05e3a9",
   "metadata": {},
   "outputs": [
    {
     "data": {
      "image/png": "[encoded data removed]",
      "text/plain": [
       "<Figure size 500x200 with 1 Axes>"
      ]
     },
     "metadata": {},
     "output_type": "display_data"
    }
   ],
   "source": [
    "plt.figure(figsize=(5,2))\n",
    "plot = sns.regplot(y = df['nutritions.calories'], x = df['nutritions.sugar'], line_kws=dict(color=\"r\"))\n",
    "plot.set_title('Calories vs Sugar')\n",
    "plt.show()"
   ]
  },
  {
   "cell_type": "markdown",
   "id": "7527d0f1-eecd-42f1-8273-695430cd4ea1",
   "metadata": {},
   "source": [
    "Distribution of protein content in different fruit families"
   ]
  },
  {
   "cell_type": "code",
   "execution_count": 26,
   "id": "631f5701-0b24-4c8b-ac7c-37e8940ee070",
   "metadata": {},
   "outputs": [
    {
     "data": {
      "text/html": [
       "<div>\n",
       "<style scoped>\n",
       "    .dataframe tbody tr th:only-of-type {\n",
       "        vertical-align: middle;\n",
       "    }\n",
       "\n",
       "    .dataframe tbody tr th {\n",
       "        vertical-align: top;\n",
       "    }\n",
       "\n",
       "    .dataframe thead th {\n",
       "        text-align: right;\n",
       "    }\n",
       "</style>\n",
       "<table border=\"1\" class=\"dataframe\">\n",
       "  <thead>\n",
       "    <tr style=\"text-align: right;\">\n",
       "      <th></th>\n",
       "      <th>mean</th>\n",
       "    </tr>\n",
       "    <tr>\n",
       "      <th>family</th>\n",
       "      <th></th>\n",
       "    </tr>\n",
       "  </thead>\n",
       "  <tbody>\n",
       "    <tr>\n",
       "      <th>Actinidiaceae</th>\n",
       "      <td>1.12</td>\n",
       "    </tr>\n",
       "    <tr>\n",
       "      <th>Anacardiaceae</th>\n",
       "      <td>0.82</td>\n",
       "    </tr>\n",
       "    <tr>\n",
       "      <th>Annonaceae</th>\n",
       "      <td>1.50</td>\n",
       "    </tr>\n",
       "    <tr>\n",
       "      <th>Bromeliaceae</th>\n",
       "      <td>0.54</td>\n",
       "    </tr>\n",
       "    <tr>\n",
       "      <th>Cactaceae</th>\n",
       "      <td>5.00</td>\n",
       "    </tr>\n",
       "  </tbody>\n",
       "</table>\n",
       "</div>"
      ],
      "text/plain": [
       "               mean\n",
       "family             \n",
       "Actinidiaceae  1.12\n",
       "Anacardiaceae  0.82\n",
       "Annonaceae     1.50\n",
       "Bromeliaceae   0.54\n",
       "Cactaceae      5.00"
      ]
     },
     "execution_count": 26,
     "metadata": {},
     "output_type": "execute_result"
    }
   ],
   "source": [
    "dist = df.groupby('family')['nutritions.protein'].agg(['mean'])\n",
    "family_protein = dist.sort_index()\n",
    "family_protein.head()"
   ]
  },
  {
   "cell_type": "code",
   "execution_count": 27,
   "id": "542f094e-52e8-48b7-adac-cf781c35effb",
   "metadata": {},
   "outputs": [
    {
     "data": {
      "image/png": "[encoded data removed]",
      "text/plain": [
       "<Figure size 600x300 with 1 Axes>"
      ]
     },
     "metadata": {},
     "output_type": "display_data"
    }
   ],
   "source": [
    "plt.figure(figsize=(6, 3))\n",
    "sns.barplot(data=family_protein, x='family', y='mean')\n",
    "plt.title('Protein Content Distribution by Family')\n",
    "plt.xticks(rotation=90, ha='right')\n",
    "plt.show()"
   ]
  },
  {
   "cell_type": "markdown",
   "id": "15da7767-5faf-471e-8583-c048fbcb4c46",
   "metadata": {},
   "source": [
    "How does the calorie content vary between fruits of the Rosales order and fruits of the Sapindales order"
   ]
  },
  {
   "cell_type": "code",
   "execution_count": 28,
   "id": "52c9353a-a3e6-46c7-b037-694f02a0f517",
   "metadata": {},
   "outputs": [
    {
     "data": {
      "text/html": [
       "<div>\n",
       "<style scoped>\n",
       "    .dataframe tbody tr th:only-of-type {\n",
       "        vertical-align: middle;\n",
       "    }\n",
       "\n",
       "    .dataframe tbody tr th {\n",
       "        vertical-align: top;\n",
       "    }\n",
       "\n",
       "    .dataframe thead th {\n",
       "        text-align: right;\n",
       "    }\n",
       "</style>\n",
       "<table border=\"1\" class=\"dataframe\">\n",
       "  <thead>\n",
       "    <tr style=\"text-align: right;\">\n",
       "      <th></th>\n",
       "      <th>name</th>\n",
       "      <th>id</th>\n",
       "      <th>family</th>\n",
       "      <th>order</th>\n",
       "      <th>genus</th>\n",
       "      <th>nutritions.calories</th>\n",
       "      <th>nutritions.fat</th>\n",
       "      <th>nutritions.sugar</th>\n",
       "      <th>nutritions.carbohydrates</th>\n",
       "      <th>nutritions.protein</th>\n",
       "    </tr>\n",
       "  </thead>\n",
       "  <tbody>\n",
       "    <tr>\n",
       "      <th>0</th>\n",
       "      <td>Persimmon</td>\n",
       "      <td>52</td>\n",
       "      <td>Ebenaceae</td>\n",
       "      <td>Rosales</td>\n",
       "      <td>Diospyros</td>\n",
       "      <td>81</td>\n",
       "      <td>0.00</td>\n",
       "      <td>18.0</td>\n",
       "      <td>18.0</td>\n",
       "      <td>0.0</td>\n",
       "    </tr>\n",
       "    <tr>\n",
       "      <th>1</th>\n",
       "      <td>Strawberry</td>\n",
       "      <td>3</td>\n",
       "      <td>Rosaceae</td>\n",
       "      <td>Rosales</td>\n",
       "      <td>Fragaria</td>\n",
       "      <td>29</td>\n",
       "      <td>0.40</td>\n",
       "      <td>5.4</td>\n",
       "      <td>5.5</td>\n",
       "      <td>0.8</td>\n",
       "    </tr>\n",
       "    <tr>\n",
       "      <th>4</th>\n",
       "      <td>Pear</td>\n",
       "      <td>4</td>\n",
       "      <td>Rosaceae</td>\n",
       "      <td>Rosales</td>\n",
       "      <td>Pyrus</td>\n",
       "      <td>57</td>\n",
       "      <td>0.10</td>\n",
       "      <td>10.0</td>\n",
       "      <td>15.0</td>\n",
       "      <td>0.4</td>\n",
       "    </tr>\n",
       "    <tr>\n",
       "      <th>6</th>\n",
       "      <td>Blackberry</td>\n",
       "      <td>64</td>\n",
       "      <td>Rosaceae</td>\n",
       "      <td>Rosales</td>\n",
       "      <td>Rubus</td>\n",
       "      <td>40</td>\n",
       "      <td>0.40</td>\n",
       "      <td>4.5</td>\n",
       "      <td>9.0</td>\n",
       "      <td>1.3</td>\n",
       "    </tr>\n",
       "    <tr>\n",
       "      <th>9</th>\n",
       "      <td>Lychee</td>\n",
       "      <td>67</td>\n",
       "      <td>Sapindaceae</td>\n",
       "      <td>Sapindales</td>\n",
       "      <td>Litchi</td>\n",
       "      <td>66</td>\n",
       "      <td>0.44</td>\n",
       "      <td>15.0</td>\n",
       "      <td>17.0</td>\n",
       "      <td>0.8</td>\n",
       "    </tr>\n",
       "  </tbody>\n",
       "</table>\n",
       "</div>"
      ],
      "text/plain": [
       "         name  id       family       order      genus  nutritions.calories  \\\n",
       "0   Persimmon  52    Ebenaceae     Rosales  Diospyros                   81   \n",
       "1  Strawberry   3     Rosaceae     Rosales   Fragaria                   29   \n",
       "4        Pear   4     Rosaceae     Rosales      Pyrus                   57   \n",
       "6  Blackberry  64     Rosaceae     Rosales      Rubus                   40   \n",
       "9      Lychee  67  Sapindaceae  Sapindales     Litchi                   66   \n",
       "\n",
       "   nutritions.fat  nutritions.sugar  nutritions.carbohydrates  \\\n",
       "0            0.00              18.0                      18.0   \n",
       "1            0.40               5.4                       5.5   \n",
       "4            0.10              10.0                      15.0   \n",
       "6            0.40               4.5                       9.0   \n",
       "9            0.44              15.0                      17.0   \n",
       "\n",
       "   nutritions.protein  \n",
       "0                 0.0  \n",
       "1                 0.8  \n",
       "4                 0.4  \n",
       "6                 1.3  \n",
       "9                 0.8  "
      ]
     },
     "execution_count": 28,
     "metadata": {},
     "output_type": "execute_result"
    }
   ],
   "source": [
    "ros_sap = df[df['order'].isin(['Rosales','Sapindales'])]\n",
    "ros_sap.head()"
   ]
  },
  {
   "cell_type": "code",
   "execution_count": 29,
   "id": "1697374c-cd3e-413f-a300-7edc3bae9d63",
   "metadata": {},
   "outputs": [
    {
     "data": {
      "image/png": "[encoded data removed]",
      "text/plain": [
       "<Figure size 300x300 with 1 Axes>"
      ]
     },
     "metadata": {},
     "output_type": "display_data"
    }
   ],
   "source": [
    "plt.figure(figsize=(3,3))\n",
    "plt.title('Calories vs Rosales & Sapindales')\n",
    "sns.boxplot(data=ros_sap, y = 'nutritions.calories', x = 'order')\n",
    "plt.show()"
   ]
  },
  {
   "cell_type": "markdown",
   "id": "bcf6ae1f-d3aa-4a09-9de7-077b68cb168c",
   "metadata": {},
   "source": [
    "Average fat content in fruits from the Rosaceae family compared to the Cucurbitaceae family"
   ]
  },
  {
   "cell_type": "code",
   "execution_count": 30,
   "id": "d2fe9b44-f0a1-498e-ba8d-1484cddfba79",
   "metadata": {},
   "outputs": [
    {
     "data": {
      "text/html": [
       "<div>\n",
       "<style scoped>\n",
       "    .dataframe tbody tr th:only-of-type {\n",
       "        vertical-align: middle;\n",
       "    }\n",
       "\n",
       "    .dataframe tbody tr th {\n",
       "        vertical-align: top;\n",
       "    }\n",
       "\n",
       "    .dataframe thead th {\n",
       "        text-align: right;\n",
       "    }\n",
       "</style>\n",
       "<table border=\"1\" class=\"dataframe\">\n",
       "  <thead>\n",
       "    <tr style=\"text-align: right;\">\n",
       "      <th></th>\n",
       "      <th>family</th>\n",
       "      <th>nutritions.fat</th>\n",
       "    </tr>\n",
       "  </thead>\n",
       "  <tbody>\n",
       "    <tr>\n",
       "      <th>0</th>\n",
       "      <td>Cucurbitaceae</td>\n",
       "      <td>0.440000</td>\n",
       "    </tr>\n",
       "    <tr>\n",
       "      <th>1</th>\n",
       "      <td>Rosaceae</td>\n",
       "      <td>0.311818</td>\n",
       "    </tr>\n",
       "  </tbody>\n",
       "</table>\n",
       "</div>"
      ],
      "text/plain": [
       "          family  nutritions.fat\n",
       "0  Cucurbitaceae        0.440000\n",
       "1       Rosaceae        0.311818"
      ]
     },
     "execution_count": 30,
     "metadata": {},
     "output_type": "execute_result"
    }
   ],
   "source": [
    "ros_cucur = df[df['family'].isin(['Rosaceae','Cucurbitaceae'])]\n",
    "avg_fat_ros_cucur = ros_cucur.groupby('family')['nutritions.fat'].mean().reset_index()\n",
    "avg_fat_ros_cucur"
   ]
  },
  {
   "cell_type": "code",
   "execution_count": 31,
   "id": "5e9e3cf0-8471-4940-bcf3-822ca6530baf",
   "metadata": {},
   "outputs": [
    {
     "data": {
      "image/png": "[encoded data removed]",
      "text/plain": [
       "<Figure size 300x200 with 1 Axes>"
      ]
     },
     "metadata": {},
     "output_type": "display_data"
    }
   ],
   "source": [
    "plt.figure(figsize=(3,2))\n",
    "plt.title('Average fat content in Rosaceae and Cucurbitaceae family')\n",
    "sns.barplot(data=avg_fat_ros_cucur, y = 'family', x = 'nutritions.fat')\n",
    "plt.show()"
   ]
  },
  {
   "cell_type": "markdown",
   "id": "d7b632d6-16c6-421f-b32e-eb07affa523f",
   "metadata": {},
   "source": [
    "How does the Sugar content vary between fruits of the Citrus genus and fruits of the Malus genus"
   ]
  },
  {
   "cell_type": "code",
   "execution_count": 32,
   "id": "f7c23c82-8117-43ee-9fc7-81d1641f9cec",
   "metadata": {},
   "outputs": [
    {
     "data": {
      "text/html": [
       "<div>\n",
       "<style scoped>\n",
       "    .dataframe tbody tr th:only-of-type {\n",
       "        vertical-align: middle;\n",
       "    }\n",
       "\n",
       "    .dataframe tbody tr th {\n",
       "        vertical-align: top;\n",
       "    }\n",
       "\n",
       "    .dataframe thead th {\n",
       "        text-align: right;\n",
       "    }\n",
       "</style>\n",
       "<table border=\"1\" class=\"dataframe\">\n",
       "  <thead>\n",
       "    <tr style=\"text-align: right;\">\n",
       "      <th></th>\n",
       "      <th>name</th>\n",
       "      <th>id</th>\n",
       "      <th>family</th>\n",
       "      <th>order</th>\n",
       "      <th>genus</th>\n",
       "      <th>nutritions.calories</th>\n",
       "      <th>nutritions.fat</th>\n",
       "      <th>nutritions.sugar</th>\n",
       "      <th>nutritions.carbohydrates</th>\n",
       "      <th>nutritions.protein</th>\n",
       "    </tr>\n",
       "  </thead>\n",
       "  <tbody>\n",
       "    <tr>\n",
       "      <th>0</th>\n",
       "      <td>Persimmon</td>\n",
       "      <td>52</td>\n",
       "      <td>Ebenaceae</td>\n",
       "      <td>Rosales</td>\n",
       "      <td>Diospyros</td>\n",
       "      <td>81</td>\n",
       "      <td>0.0</td>\n",
       "      <td>18.0</td>\n",
       "      <td>18.0</td>\n",
       "      <td>0.0</td>\n",
       "    </tr>\n",
       "    <tr>\n",
       "      <th>1</th>\n",
       "      <td>Strawberry</td>\n",
       "      <td>3</td>\n",
       "      <td>Rosaceae</td>\n",
       "      <td>Rosales</td>\n",
       "      <td>Fragaria</td>\n",
       "      <td>29</td>\n",
       "      <td>0.4</td>\n",
       "      <td>5.4</td>\n",
       "      <td>5.5</td>\n",
       "      <td>0.8</td>\n",
       "    </tr>\n",
       "    <tr>\n",
       "      <th>2</th>\n",
       "      <td>Banana</td>\n",
       "      <td>1</td>\n",
       "      <td>Musaceae</td>\n",
       "      <td>Zingiberales</td>\n",
       "      <td>Musa</td>\n",
       "      <td>96</td>\n",
       "      <td>0.2</td>\n",
       "      <td>17.2</td>\n",
       "      <td>22.0</td>\n",
       "      <td>1.0</td>\n",
       "    </tr>\n",
       "    <tr>\n",
       "      <th>3</th>\n",
       "      <td>Tomato</td>\n",
       "      <td>5</td>\n",
       "      <td>Solanaceae</td>\n",
       "      <td>Solanales</td>\n",
       "      <td>Solanum</td>\n",
       "      <td>74</td>\n",
       "      <td>0.2</td>\n",
       "      <td>2.6</td>\n",
       "      <td>3.9</td>\n",
       "      <td>0.9</td>\n",
       "    </tr>\n",
       "    <tr>\n",
       "      <th>4</th>\n",
       "      <td>Pear</td>\n",
       "      <td>4</td>\n",
       "      <td>Rosaceae</td>\n",
       "      <td>Rosales</td>\n",
       "      <td>Pyrus</td>\n",
       "      <td>57</td>\n",
       "      <td>0.1</td>\n",
       "      <td>10.0</td>\n",
       "      <td>15.0</td>\n",
       "      <td>0.4</td>\n",
       "    </tr>\n",
       "  </tbody>\n",
       "</table>\n",
       "</div>"
      ],
      "text/plain": [
       "         name  id      family         order      genus  nutritions.calories  \\\n",
       "0   Persimmon  52   Ebenaceae       Rosales  Diospyros                   81   \n",
       "1  Strawberry   3    Rosaceae       Rosales   Fragaria                   29   \n",
       "2      Banana   1    Musaceae  Zingiberales       Musa                   96   \n",
       "3      Tomato   5  Solanaceae     Solanales    Solanum                   74   \n",
       "4        Pear   4    Rosaceae       Rosales      Pyrus                   57   \n",
       "\n",
       "   nutritions.fat  nutritions.sugar  nutritions.carbohydrates  \\\n",
       "0             0.0              18.0                      18.0   \n",
       "1             0.4               5.4                       5.5   \n",
       "2             0.2              17.2                      22.0   \n",
       "3             0.2               2.6                       3.9   \n",
       "4             0.1              10.0                      15.0   \n",
       "\n",
       "   nutritions.protein  \n",
       "0                 0.0  \n",
       "1                 0.8  \n",
       "2                 1.0  \n",
       "3                 0.9  \n",
       "4                 0.4  "
      ]
     },
     "execution_count": 32,
     "metadata": {},
     "output_type": "execute_result"
    }
   ],
   "source": [
    "df.head()"
   ]
  },
  {
   "cell_type": "code",
   "execution_count": 33,
   "id": "c144b5d0-f14b-4245-a5d4-dcb4e04ad74e",
   "metadata": {},
   "outputs": [
    {
     "data": {
      "text/html": [
       "<div>\n",
       "<style scoped>\n",
       "    .dataframe tbody tr th:only-of-type {\n",
       "        vertical-align: middle;\n",
       "    }\n",
       "\n",
       "    .dataframe tbody tr th {\n",
       "        vertical-align: top;\n",
       "    }\n",
       "\n",
       "    .dataframe thead th {\n",
       "        text-align: right;\n",
       "    }\n",
       "</style>\n",
       "<table border=\"1\" class=\"dataframe\">\n",
       "  <thead>\n",
       "    <tr style=\"text-align: right;\">\n",
       "      <th></th>\n",
       "      <th>name</th>\n",
       "      <th>id</th>\n",
       "      <th>family</th>\n",
       "      <th>order</th>\n",
       "      <th>genus</th>\n",
       "      <th>nutritions.calories</th>\n",
       "      <th>nutritions.fat</th>\n",
       "      <th>nutritions.sugar</th>\n",
       "      <th>nutritions.carbohydrates</th>\n",
       "      <th>nutritions.protein</th>\n",
       "    </tr>\n",
       "  </thead>\n",
       "  <tbody>\n",
       "    <tr>\n",
       "      <th>15</th>\n",
       "      <td>Orange</td>\n",
       "      <td>2</td>\n",
       "      <td>Rutaceae</td>\n",
       "      <td>Sapindales</td>\n",
       "      <td>Citrus</td>\n",
       "      <td>43</td>\n",
       "      <td>0.2</td>\n",
       "      <td>8.2</td>\n",
       "      <td>8.30</td>\n",
       "      <td>1.00</td>\n",
       "    </tr>\n",
       "    <tr>\n",
       "      <th>16</th>\n",
       "      <td>GreenApple</td>\n",
       "      <td>72</td>\n",
       "      <td>Rosaceae</td>\n",
       "      <td>Rosales</td>\n",
       "      <td>Malus</td>\n",
       "      <td>21</td>\n",
       "      <td>0.1</td>\n",
       "      <td>6.4</td>\n",
       "      <td>3.10</td>\n",
       "      <td>0.40</td>\n",
       "    </tr>\n",
       "    <tr>\n",
       "      <th>19</th>\n",
       "      <td>Lemon</td>\n",
       "      <td>26</td>\n",
       "      <td>Rutaceae</td>\n",
       "      <td>Sapindales</td>\n",
       "      <td>Citrus</td>\n",
       "      <td>29</td>\n",
       "      <td>0.3</td>\n",
       "      <td>2.5</td>\n",
       "      <td>9.00</td>\n",
       "      <td>1.10</td>\n",
       "    </tr>\n",
       "    <tr>\n",
       "      <th>22</th>\n",
       "      <td>Apple</td>\n",
       "      <td>6</td>\n",
       "      <td>Rosaceae</td>\n",
       "      <td>Rosales</td>\n",
       "      <td>Malus</td>\n",
       "      <td>52</td>\n",
       "      <td>0.4</td>\n",
       "      <td>10.3</td>\n",
       "      <td>11.40</td>\n",
       "      <td>0.30</td>\n",
       "    </tr>\n",
       "    <tr>\n",
       "      <th>26</th>\n",
       "      <td>Tangerine</td>\n",
       "      <td>77</td>\n",
       "      <td>Rutaceae</td>\n",
       "      <td>Sapindales</td>\n",
       "      <td>Citrus</td>\n",
       "      <td>45</td>\n",
       "      <td>0.4</td>\n",
       "      <td>9.1</td>\n",
       "      <td>8.30</td>\n",
       "      <td>0.00</td>\n",
       "    </tr>\n",
       "    <tr>\n",
       "      <th>28</th>\n",
       "      <td>Lime</td>\n",
       "      <td>44</td>\n",
       "      <td>Rutaceae</td>\n",
       "      <td>Sapindales</td>\n",
       "      <td>Citrus</td>\n",
       "      <td>25</td>\n",
       "      <td>0.1</td>\n",
       "      <td>1.7</td>\n",
       "      <td>8.40</td>\n",
       "      <td>0.30</td>\n",
       "    </tr>\n",
       "    <tr>\n",
       "      <th>42</th>\n",
       "      <td>Pomelo</td>\n",
       "      <td>98</td>\n",
       "      <td>Rutaceae</td>\n",
       "      <td>Sapindales</td>\n",
       "      <td>Citrus</td>\n",
       "      <td>37</td>\n",
       "      <td>0.0</td>\n",
       "      <td>8.5</td>\n",
       "      <td>9.67</td>\n",
       "      <td>0.82</td>\n",
       "    </tr>\n",
       "  </tbody>\n",
       "</table>\n",
       "</div>"
      ],
      "text/plain": [
       "          name  id    family       order   genus  nutritions.calories  \\\n",
       "15      Orange   2  Rutaceae  Sapindales  Citrus                   43   \n",
       "16  GreenApple  72  Rosaceae     Rosales   Malus                   21   \n",
       "19       Lemon  26  Rutaceae  Sapindales  Citrus                   29   \n",
       "22       Apple   6  Rosaceae     Rosales   Malus                   52   \n",
       "26   Tangerine  77  Rutaceae  Sapindales  Citrus                   45   \n",
       "28        Lime  44  Rutaceae  Sapindales  Citrus                   25   \n",
       "42      Pomelo  98  Rutaceae  Sapindales  Citrus                   37   \n",
       "\n",
       "    nutritions.fat  nutritions.sugar  nutritions.carbohydrates  \\\n",
       "15             0.2               8.2                      8.30   \n",
       "16             0.1               6.4                      3.10   \n",
       "19             0.3               2.5                      9.00   \n",
       "22             0.4              10.3                     11.40   \n",
       "26             0.4               9.1                      8.30   \n",
       "28             0.1               1.7                      8.40   \n",
       "42             0.0               8.5                      9.67   \n",
       "\n",
       "    nutritions.protein  \n",
       "15                1.00  \n",
       "16                0.40  \n",
       "19                1.10  \n",
       "22                0.30  \n",
       "26                0.00  \n",
       "28                0.30  \n",
       "42                0.82  "
      ]
     },
     "execution_count": 33,
     "metadata": {},
     "output_type": "execute_result"
    }
   ],
   "source": [
    "cit_mal = df[df['genus'].isin(['Citrus','Malus'])]\n",
    "cit_mal"
   ]
  },
  {
   "cell_type": "code",
   "execution_count": 34,
   "id": "b50ae68d-70f4-4966-bf90-563ee133e3cb",
   "metadata": {},
   "outputs": [
    {
     "data": {
      "image/png": "[encoded data removed]",
      "text/plain": [
       "<Figure size 300x300 with 1 Axes>"
      ]
     },
     "metadata": {},
     "output_type": "display_data"
    }
   ],
   "source": [
    "plt.figure(figsize=(3,3))\n",
    "plt.title('Sugar vs Citrus and Malus genus')\n",
    "sns.boxplot(data = cit_mal, y = 'nutritions.sugar', x = 'genus')\n",
    "plt.show()"
   ]
  },
  {
   "cell_type": "markdown",
   "id": "0bf71c15-dea7-4123-b3ae-0585dd3cb758",
   "metadata": {},
   "source": [
    "Using Linear Regression Model to predict calorie content based on the other nutritional components. \n",
    "Also check how accurate is the model?"
   ]
  },
  {
   "cell_type": "markdown",
   "id": "fe2b3049-8f02-47e8-847b-be9ec508fb42",
   "metadata": {},
   "source": [
    "Formula used in the backend \n",
    "calory = m1 * fat + m2 * sugar + m3 * carbohydrates + m4 * protein + intercept"
   ]
  },
  {
   "cell_type": "code",
   "execution_count": 35,
   "id": "e4e4f623-a155-4ea4-b208-c03929732f59",
   "metadata": {},
   "outputs": [],
   "source": [
    "reg = linear_model.LinearRegression()\n",
    "x = df[['nutritions.fat','nutritions.sugar','nutritions.carbohydrates','nutritions.protein']].values\n",
    "y = df[['nutritions.calories']]\n",
    "temp = reg.fit(x,y)"
   ]
  },
  {
   "cell_type": "code",
   "execution_count": 36,
   "id": "179b4268-8404-4ce3-9517-9b90decf29ac",
   "metadata": {},
   "outputs": [
    {
     "data": {
      "text/plain": [
       "array([[8.24777624, 0.08738928, 3.37286617, 1.22675339]])"
      ]
     },
     "execution_count": 36,
     "metadata": {},
     "output_type": "execute_result"
    }
   ],
   "source": [
    "reg.coef_"
   ]
  },
  {
   "cell_type": "code",
   "execution_count": 37,
   "id": "5e798469-2814-4a47-b58c-4a8f03c9467c",
   "metadata": {},
   "outputs": [
    {
     "data": {
      "text/plain": [
       "array([7.76918724])"
      ]
     },
     "execution_count": 37,
     "metadata": {},
     "output_type": "execute_result"
    }
   ],
   "source": [
    "reg.intercept_"
   ]
  },
  {
   "cell_type": "markdown",
   "id": "e4430706-2c66-48e7-8811-f35c5eb1f0a0",
   "metadata": {},
   "source": [
    "Here I tried to predict the calory of Orange using Linear Regression"
   ]
  },
  {
   "cell_type": "code",
   "execution_count": 38,
   "id": "00ea49b0-90cc-4750-af57-f8e2e825373c",
   "metadata": {},
   "outputs": [
    {
     "data": {
      "text/plain": [
       "array([[39.36]])"
      ]
     },
     "execution_count": 38,
     "metadata": {},
     "output_type": "execute_result"
    }
   ],
   "source": [
    "orange_cal_pred = reg.predict([[0.2,8.2,8.30,1.00]])\n",
    "orange_cal_pred.round(2)"
   ]
  },
  {
   "cell_type": "markdown",
   "id": "63cbdc7f-f700-4e62-b7e0-4feb775e48c5",
   "metadata": {},
   "source": [
    "Real value is 43 which is 91.53% accurate"
   ]
  },
  {
   "cell_type": "code",
   "execution_count": 39,
   "id": "841da51f-949b-492f-ad2a-0614e816efe2",
   "metadata": {},
   "outputs": [
    {
     "data": {
      "text/plain": [
       "91.53"
      ]
     },
     "execution_count": 39,
     "metadata": {},
     "output_type": "execute_result"
    }
   ],
   "source": [
    "accuracy = (1 - abs(43-39.36)/43)*100\n",
    "orange_accuracy = round(accuracy,2)\n",
    "orange_accuracy"
   ]
  }
 ],
 "metadata": {
  "kernelspec": {
   "display_name": "Python 3 (ipykernel)",
   "language": "python",
   "name": "python3"
  },
  "language_info": {
   "codemirror_mode": {
    "name": "ipython",
    "version": 3
   },
   "file_extension": ".py",
   "mimetype": "text/x-python",
   "name": "python",
   "nbconvert_exporter": "python",
   "pygments_lexer": "ipython3",
   "version": "3.12.2"
  }
 },
 "nbformat": 4,
 "nbformat_minor": 5
}
